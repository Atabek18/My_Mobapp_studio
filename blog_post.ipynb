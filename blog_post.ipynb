{
  "nbformat": 4,
  "nbformat_minor": 0,
  "metadata": {
    "colab": {
      "provenance": [],
      "collapsed_sections": []
    },
    "kernelspec": {
      "name": "python3",
      "display_name": "Python 3"
    },
    "language_info": {
      "name": "python"
    }
  },
  "cells": [
    {
      "cell_type": "markdown",
      "source": [
        "# Hello I am man who wrote this code\n",
        "You can see many steps of code\n",
        "\n",
        "First import some library\n",
        "\n",
        "Second load data from csv file\n",
        "\n",
        "Third cleaning the mess of dataset from load_dataset\n",
        "\n",
        "# If you want, you can continue my presentasion\n",
        "\n",
        "# Good luck !!! "
      ],
      "metadata": {
        "id": "0msMKpRIOVBh"
      }
    },
    {
      "cell_type": "code",
      "execution_count": null,
      "metadata": {
        "id": "iAKDDcCuIzfH"
      },
      "outputs": [],
      "source": [
        "import pandas as pd\n",
        "import numpy as np\n",
        "import matplotlib.pyplot as plt\n",
        "import seaborn as sns\n",
        "\n",
        "def load_dataset():\n",
        "    df = pd.read_csv(\"googleplaystore.csv\")\n",
        "    return df\n",
        "data = load_dataset()\n",
        "def print_summarize_dataset(dataset):\n",
        "    print(dataset.shape)\n",
        "    print(dataset.head(10))\n",
        "    print(dataset.describe())\n",
        "\n",
        "# print_summerize_data(data)\n",
        "def clean_dataset(data):\n",
        "    data.dropna(axis=0, inplace=True)\n",
        "    data[\"Reviews\"] = data[\"Reviews\"].astype(np.int)\n",
        "    data[\"Category\"] = data[\"Category\"].astype(\"string\")\n",
        "    data[\"Installs\"] = data[\"Installs\"].str.replace(\"+\", '').str.replace(\",\", '').astype(int)\n",
        "    data[\"Price\"] = data[\"Price\"].str.replace(\"$\", '').astype(np.float)\n",
        "    data[\"Last Updated\"] = pd.to_datetime(data['Last Updated'])\n",
        "    data[\"Genres\"] = data[\"Genres\"].str.replace(\"&\", \"and\").astype(\"string\")\n",
        "    data[\"Size\"] = data[\"Size\"].str.replace(\"Varies with device\", \"NaN\")\n",
        "    data_size = data[data[\"Size\"].str.contains(\"k\", regex=False)]\n",
        "    data_size[\"Size\"] = data_size[\"Size\"].str.replace(\"k\", '').astype(float)/1000\n",
        "    data[\"Size\"].update(data_size[\"Size\"])\n",
        "    data['Size'] = data[\"Size\"].str.replace(\"M\", '').astype(float)\n",
        "    data[\"Size\"] = data[\"Size\"].fillna(np.mean(data[\"Size\"]))\n",
        "    data[\"Content Rating\"] = data[\"Content Rating\"].str.replace(\"+\", \"\")\n",
        "    return data\n",
        "clean_dataset = clean_dataset(data)"
      ]
    },
    {
      "cell_type": "markdown",
      "source": [
        "# Ohh This is so amazing !!!\n",
        "\n",
        "# I mean about bar diagram\n",
        "\n",
        "# Plot with bar diagram the most populars paid apps of Family category"
      ],
      "metadata": {
        "id": "eVY4dDnuMKka"
      }
    },
    {
      "cell_type": "code",
      "source": [
        "def most_populars_paid_apps_of_Family(clean_dataset):\n",
        "  family = clean_dataset[clean_dataset.Category.str.contains(\"FAMILY\")][\"Type\"]\n",
        "  free = [i for i in family if i == \"Free\"]\n",
        "  paid = [i for i in family if i == \"Paid\"]\n",
        "  count = family.value_counts().values\n",
        "  count_persent = [100/sum(count)*i for i in count]\n",
        "  yfree = np.arange(len(free))\n",
        "  ypaid = np.arange(len(paid))\n",
        "  plt.bar(free, yfree, width=0.5)\n",
        "  plt.bar(paid, ypaid, width=0.5)\n",
        "  plt.title(\"FAMILY\")\n",
        "  plt.ylabel(\"count\")\n",
        "  for i, v in enumerate(zip(count, count_persent)):\n",
        "    plt.text(i-0.06, v[0]+3, str(round(v[1], 1))+\"%\", color=\"black\", fontweight='bold')\n",
        "  plt.show()\n",
        "most_populars_paid_apps_of_Family(clean_dataset)"
      ],
      "metadata": {
        "id": "RIGlD8YyLIyD"
      },
      "execution_count": null,
      "outputs": []
    },
    {
      "cell_type": "markdown",
      "source": [
        "# Plot with a pie diagram the most popular genres according to the number of installations from paid family\n",
        "\n",
        "Maybe you can see some code in pie diagram\n",
        "In this diagram can show you most popular genres \n"
      ],
      "metadata": {
        "id": "34zfXZ8wKu3P"
      }
    },
    {
      "cell_type": "code",
      "source": [
        "from os import name\n",
        "def most_popular_genres_according(clean_dataset):\n",
        "  genres  = clean_dataset.sort_values(by=\"Installs\", ascending=False)[(clean_dataset[\"Category\"]==\"FAMILY\")&(clean_dataset[\"Type\"]==\"Paid\")][[\"Genres\", \"Installs\"]]\n",
        "  del_dup = genres.drop_duplicates(\"Genres\", keep=\"first\")\n",
        "  data = list(zip(del_dup[\"Genres\"], del_dup[\"Installs\"]))\n",
        "  labels = [i for i, j in data[:10]]\n",
        "  X = [j for i, j in data[:10]]\n",
        "  color = sns.color_palette(\"bright\")\n",
        "  explode = [i/100000000 for i in X]\n",
        "  plt.figure(figsize=(30, 10))\n",
        "  plt.pie(X, labels=labels, autopct='%1.1f%%', colors=color, shadow=True, explode=explode)\n",
        "  plt.legend(loc='upper right')\n",
        "most_popular_genres_according(clean_dataset)"
      ],
      "metadata": {
        "id": "x5G8hVNdN_gU"
      },
      "execution_count": null,
      "outputs": []
    },
    {
      "cell_type": "markdown",
      "source": [
        "#An array with the number of installation per category\n",
        "\n",
        "Maybe I change this rules and I add some plots\n",
        "\n",
        "This code find per of category\n",
        "\n",
        "And after this find Installs of given data"
      ],
      "metadata": {
        "id": "H5YyW2BRHKYF"
      }
    },
    {
      "cell_type": "code",
      "source": [
        "def number_of_installation_per_cat(clean_dataset):\n",
        "  data = clean_dataset[\"Category\"].unique()\n",
        "  all = []\n",
        "  col = []\n",
        "  for i in data:\n",
        "    values = clean_dataset[clean_dataset[\"Category\"]==i][\"Installs\"].values\n",
        "    all.append(values)\n",
        "    col.append(i)\n",
        "  \n",
        "  # you can take any key of Category\n",
        "  plt.figure(figsize=(60, 20))\n",
        "  for i in range(len(all)):\n",
        "    plt.subplot(3, 11, i+1)\n",
        "    plt.plot(all[i])\n",
        "    plt.title(col[i])\n",
        "  plt.show()\n",
        "  # return dict(zip(col, all))[\"MAPS_AND_NAVIGATION\"]\n",
        "# number_of_installation_per_cat(clean_dataset)"
      ],
      "metadata": {
        "id": "RkMqIHMJa_rc"
      },
      "execution_count": 216,
      "outputs": []
    },
    {
      "cell_type": "markdown",
      "source": [
        "# Plot a pie with the number of installation per category\n",
        "\n",
        "This code can plot a pie all numbers of each of category column"
      ],
      "metadata": {
        "id": "JCV6qYVbHx4E"
      }
    },
    {
      "cell_type": "code",
      "source": [
        "\n",
        "def pie_installs(clean_dataset):\n",
        "  plt.figure(figsize=(50, 20))\n",
        "  col = clean_dataset.Category.unique()\n",
        "  color = sns.color_palette(\"bright\")\n",
        "  data = clean_dataset.groupby(\"Category\").count()\n",
        "  explode = [i/10000 for i in data[\"Installs\"]]\n",
        "  plt.pie(data[\"Installs\"], autopct=\"%1.1f%%\", colors=color, explode=explode, shadow=True, textprops={\"fontsize\":12})\n",
        "  plt.legend(col)\n",
        "# pie_installs(clean_dataset)"
      ],
      "metadata": {
        "id": "xY2o9lDoTQ1b"
      },
      "execution_count": 217,
      "outputs": []
    },
    {
      "cell_type": "markdown",
      "source": [
        "# Plot a bar with the mean price per category\n",
        "\n",
        "This code make a some math \n",
        "\n",
        "Why? Because in this code used mean\n",
        "\n",
        "To find from per category  mean of price\n"
      ],
      "metadata": {
        "id": "mNm8jUksIHCd"
      }
    },
    {
      "cell_type": "code",
      "source": [
        "\n",
        "def mean_price_per_category(clean_dataset):\n",
        "  col = clean_dataset[\"Category\"].unique()\n",
        "  var = sorted([np.mean(clean_dataset[clean_dataset[\"Category\"]==i][\"Price\"].values) for i in col])\n",
        "  plt.figure(figsize=(10, 7))\n",
        "  x_axis = np.arange(len(var))\n",
        "  plt.bar(var, x_axis, width=0.6, edgecolor='blue', color=(0.6, 0.7, 0.8, 0.9))\n",
        "  plt.title(\"Plot a bar with the mean price per category\")\n",
        "# mean_price_per_category(clean_dataset)"
      ],
      "metadata": {
        "id": "iXad6E3wf7KF"
      },
      "execution_count": 339,
      "outputs": []
    },
    {
      "cell_type": "markdown",
      "source": [
        "# Most expensive price per category"
      ],
      "metadata": {
        "id": "w4MnnqZeIlJk"
      }
    },
    {
      "cell_type": "code",
      "source": [
        "\n",
        "def expensive_price_per_category(clean_dataset):\n",
        "  col = clean_dataset[\"Category\"].unique()\n",
        "  var = sorted([sorted(clean_dataset[(clean_dataset[\"Type\"]=='Paid')&(clean_dataset[\"Category\"]==i)][\"Price\"].values)[-1] for i in col if clean_dataset[(clean_dataset[\"Type\"]=='Paid')&(clean_dataset[\"Category\"]==i)][\"Price\"].values != []])[::-1]\n",
        "  color = [\"#000000\", \"#222034\", \"#45283c\", \"#663931\", \n",
        "          \"#8f563b\", \"#df7126\", \"#d9a066\", \"#eec39a\",\n",
        "          \"#fbf236\", \"#99e550\", \"#6abe30\", \"#37946e\",\n",
        "          \"#4b692f\", \"#524b24\", \"#323c39\", \"#3f3f74\",\n",
        "          \"#306082\", \"#5b6ee1\", \"#639bff\", \"#5fcde4\",\n",
        "          \"#cbdbfc\", \"#ffffff\", \"#9badb7\", \"#847e87\",\n",
        "          \"#696a6a\", \"#595652\", \"#76428a\", \"#ac3232\",\n",
        "          \"#d95763\", \"#d77bba\", \"#8f974a\", \"#8a6f30\"]\n",
        "  plt.figure(figsize=(10, 7))\n",
        "  y = np.arange(len(var))\n",
        "  plt.bar(var, y, width=20, color=color)\n",
        "  plt.title(\"Most expensive apps per category\")\n",
        "  # return var\n",
        "# expensive_apps_per_category(clean_dataset)"
      ],
      "metadata": {
        "id": "6rL10Zag2I5T"
      },
      "execution_count": null,
      "outputs": []
    }
  ]
}